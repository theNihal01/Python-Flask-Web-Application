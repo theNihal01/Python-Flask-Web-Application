{
 "cells": [
  {
   "cell_type": "code",
   "execution_count": 1,
   "id": "48af7e4a",
   "metadata": {},
   "outputs": [],
   "source": [
    "#Create a Python Flask Web Application"
   ]
  },
  {
   "cell_type": "code",
   "execution_count": 2,
   "id": "e52e967a",
   "metadata": {},
   "outputs": [
    {
     "ename": "SyntaxError",
     "evalue": "invalid syntax (3776554459.py, line 2)",
     "output_type": "error",
     "traceback": [
      "\u001b[1;36m  Cell \u001b[1;32mIn[2], line 2\u001b[1;36m\u001b[0m\n\u001b[1;33m    mkdir flask_chatgpt_app && cd flask_chatgpt_app\u001b[0m\n\u001b[1;37m          ^\u001b[0m\n\u001b[1;31mSyntaxError\u001b[0m\u001b[1;31m:\u001b[0m invalid syntax\n"
     ]
    }
   ],
   "source": [
    "#1.1. Create a new project directory and navigate to it:\n",
    "mkdir flask_chatgpt_app && cd flask_chatgpt_app\n"
   ]
  },
  {
   "cell_type": "code",
   "execution_count": null,
   "id": "e63e9e91",
   "metadata": {},
   "outputs": [],
   "source": [
    "#1.2. Create a virtual environment for the project:\n",
    "python3 -m venv venv\n"
   ]
  },
  {
   "cell_type": "code",
   "execution_count": null,
   "id": "b74f3fed",
   "metadata": {},
   "outputs": [],
   "source": [
    "#1.3. Activate the virtual environment:\n",
    "source venv/bin/activate\n"
   ]
  },
  {
   "cell_type": "code",
   "execution_count": null,
   "id": "ac794f38",
   "metadata": {
    "scrolled": true
   },
   "outputs": [],
   "source": [
    "#1.4. Install Flask:\n",
    "!pip install Flask\n"
   ]
  },
  {
   "cell_type": "code",
   "execution_count": null,
   "id": "0f46aa3a",
   "metadata": {},
   "outputs": [],
   "source": [
    "#1.5. Create a new file called app.py and add the following code:\n",
    "from flask import Flask, render_template, request\n",
    "\n",
    "app = Flask(__name__)\n",
    "\n",
    "@app.route('/')\n",
    "def index():\n",
    "    return render_template('index.html')\n",
    "\n",
    "@app.route('/result', methods=['POST'])\n",
    "def result():\n",
    "    prompt = request.form['prompt']\n",
    "    return render_template('result.html', prompt=prompt)\n",
    "\n",
    "if __name__ == '__main__':\n",
    "    app.run(debug=True)\n"
   ]
  },
  {
   "cell_type": "code",
   "execution_count": null,
   "id": "ece2acd2",
   "metadata": {},
   "outputs": [],
   "source": [
    "#1.6. Create a templates folder and add two HTML files index.html and result.html.\n",
    "\n",
    "index.html:"
   ]
  },
  {
   "cell_type": "code",
   "execution_count": null,
   "id": "5f261f5b",
   "metadata": {},
   "outputs": [],
   "source": [
    "<!DOCTYPE html>\n",
    "<html>\n",
    "<head>\n",
    "    <meta charset=\"utf-8\">\n",
    "    <meta name=\"viewport\" content=\"width=device-width, initial-scale=1.0\">\n",
    "    <title>ChatGPT Web App</title>\n",
    "</head>\n",
    "<body>\n",
    "    <h1>ChatGPT Web App</h1>\n",
    "    <form method=\"POST\" action=\"{{ url_for('result') }}\">\n",
    "        <label for=\"prompt\">Enter your prompt:</label><br>\n",
    "        <input type=\"text\" id=\"prompt\" name=\"prompt\"><br>\n",
    "        <input type=\"submit\" value=\"Submit\">\n",
    "    </form>\n",
    "</body>\n",
    "</html>\n"
   ]
  },
  {
   "cell_type": "code",
   "execution_count": null,
   "id": "e18cd566",
   "metadata": {},
   "outputs": [],
   "source": [
    "#result.html:"
   ]
  },
  {
   "cell_type": "code",
   "execution_count": null,
   "id": "de9b9633",
   "metadata": {},
   "outputs": [],
   "source": [
    "<!DOCTYPE html>\n",
    "<html>\n",
    "<head>\n",
    "    <meta charset=\"utf-8\">\n",
    "    <meta name=\"viewport\" content=\"width=device-width, initial-scale=1.0\">\n",
    "    <title>ChatGPT Web App</title>\n",
    "</head>\n",
    "<body>\n",
    "    <h1>ChatGPT Web App</h1>\n",
    "    <p>You entered: {{ prompt }}</p>\n",
    "</body>\n",
    "</html>\n"
   ]
  },
  {
   "cell_type": "code",
   "execution_count": null,
   "id": "9cb41e0d",
   "metadata": {},
   "outputs": [],
   "source": [
    "#1.7. Start the Flask development server:\n",
    "export FLASK_APP=app.py\n",
    "export FLASK_ENV=development\n",
    "flask run\n"
   ]
  },
  {
   "cell_type": "code",
   "execution_count": null,
   "id": "2903b558",
   "metadata": {},
   "outputs": [],
   "source": [
    "# Step 2: Integrate the ChatGPT API"
   ]
  },
  {
   "cell_type": "code",
   "execution_count": null,
   "id": "454290a8",
   "metadata": {},
   "outputs": [],
   "source": [
    "# 2.1. Sign up for the OpenAI API and obtain an API key: https://beta.openai.com/signup/\n",
    "\n",
    "# 2.2. Install the OpenAI SDK:"
   ]
  },
  {
   "cell_type": "code",
   "execution_count": null,
   "id": "221d233b",
   "metadata": {},
   "outputs": [],
   "source": [
    "!pip install openai\n"
   ]
  },
  {
   "cell_type": "code",
   "execution_count": null,
   "id": "e71857f6",
   "metadata": {},
   "outputs": [],
   "source": [
    "# 2.3. Add the following code to app.py to make API calls to the ChatGPT API:\n",
    "\n",
    "import openai\n",
    "openai.api_key = \"YOUR_API_KEY\"\n",
    "\n",
    "@app.route('/result', methods=['POST'])\n",
    "def result():\n",
    "    prompt = request.form['prompt']\n",
    "    response = openai.Completion.create(\n",
    "        engine=\"davinci\",\n",
    "        prompt=prompt,\n",
    "        max_tokens=1024,\n",
    "        n=1,\n",
    "        stop=None,\n",
    "        temperature=0.7,\n",
    "    )\n",
    "    message = response.choices[0].text.strip()\n",
    "    return render_template('result.html', prompt=prompt, message=message)\n"
   ]
  },
  {
   "cell_type": "code",
   "execution_count": null,
   "id": "fe80620b",
   "metadata": {},
   "outputs": [],
   "source": [
    "# 2.4. Update index.html and result.html to display the response from the ChatGPT API:\n",
    "\n",
    "index.html:"
   ]
  },
  {
   "cell_type": "code",
   "execution_count": 3,
   "id": "6b67fdb4",
   "metadata": {},
   "outputs": [],
   "source": [
    "<!DOCTYPE html>\n",
    "<html>\n",
    "<head>\n",
    "    <\n"
   ]
  },
  {
   "cell_type": "code",
   "execution_count": null,
   "id": "731e814e",
   "metadata": {},
   "outputs": [],
   "source": []
  },
  {
   "cell_type": "code",
   "execution_count": null,
   "id": "00f48994",
   "metadata": {},
   "outputs": [],
   "source": []
  },
  {
   "cell_type": "code",
   "execution_count": null,
   "id": "15223b0f",
   "metadata": {},
   "outputs": [],
   "source": []
  },
  {
   "cell_type": "code",
   "execution_count": null,
   "id": "18f6a57f",
   "metadata": {},
   "outputs": [],
   "source": []
  },
  {
   "cell_type": "code",
   "execution_count": null,
   "id": "80551972",
   "metadata": {},
   "outputs": [],
   "source": []
  },
  {
   "cell_type": "code",
   "execution_count": null,
   "id": "d7e5cc3c",
   "metadata": {},
   "outputs": [],
   "source": []
  },
  {
   "cell_type": "code",
   "execution_count": null,
   "id": "3ec44d8c",
   "metadata": {},
   "outputs": [],
   "source": []
  }
 ],
 "metadata": {
  "kernelspec": {
   "display_name": "Python 3 (ipykernel)",
   "language": "python",
   "name": "python3"
  },
  "language_info": {
   "codemirror_mode": {
    "name": "ipython",
    "version": 3
   },
   "file_extension": ".py",
   "mimetype": "text/x-python",
   "name": "python",
   "nbconvert_exporter": "python",
   "pygments_lexer": "ipython3",
   "version": "3.11.2"
  }
 },
 "nbformat": 4,
 "nbformat_minor": 5
}
